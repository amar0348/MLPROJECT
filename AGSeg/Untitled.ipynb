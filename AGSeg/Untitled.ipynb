{
 "cells": [
  {
   "cell_type": "code",
   "execution_count": 1,
   "id": "8d24aabc",
   "metadata": {},
   "outputs": [],
   "source": [
    "import pandas as pd\n",
    "import numpy as np\n",
    "from sklearn.preprocessing import StandardScaler, OneHotEncoder\n",
    "from sklearn.cluster import KMeans,AgglomerativeClustering,DBSCAN\n",
    "from sklearn.decomposition import PCA\n",
    "import matplotlib.pyplot as plt\n",
    "import seaborn as sns\n",
    "\n",
    "import warnings\n",
    "warnings.filterwarnings(\"ignore\")\n",
    "\n",
    "\n",
    "\n",
    "\n"
   ]
  },
  {
   "cell_type": "code",
   "execution_count": 2,
   "id": "38785225",
   "metadata": {},
   "outputs": [],
   "source": [
    "df=pd.read_csv(\"Estimated Area By Size Class And Land Use.csv\")"
   ]
  },
  {
   "cell_type": "code",
   "execution_count": 3,
   "id": "cc3511ff",
   "metadata": {},
   "outputs": [
    {
     "data": {
      "text/html": [
       "<div>\n",
       "<style scoped>\n",
       "    .dataframe tbody tr th:only-of-type {\n",
       "        vertical-align: middle;\n",
       "    }\n",
       "\n",
       "    .dataframe tbody tr th {\n",
       "        vertical-align: top;\n",
       "    }\n",
       "\n",
       "    .dataframe thead th {\n",
       "        text-align: right;\n",
       "    }\n",
       "</style>\n",
       "<table border=\"1\" class=\"dataframe\">\n",
       "  <thead>\n",
       "    <tr style=\"text-align: right;\">\n",
       "      <th></th>\n",
       "      <th>ROWID</th>\n",
       "      <th>Country</th>\n",
       "      <th>State lgd code</th>\n",
       "      <th>State</th>\n",
       "      <th>District lgd code</th>\n",
       "      <th>District</th>\n",
       "      <th>YearCode</th>\n",
       "      <th>Year</th>\n",
       "      <th>Social group type</th>\n",
       "      <th>Land area size</th>\n",
       "      <th>Category of holdings</th>\n",
       "      <th>Net area sown</th>\n",
       "      <th>Area under current fallows</th>\n",
       "      <th>Net area cultivated</th>\n",
       "      <th>Uncultivated area</th>\n",
       "    </tr>\n",
       "  </thead>\n",
       "  <tbody>\n",
       "    <tr>\n",
       "      <th>0</th>\n",
       "      <td>1</td>\n",
       "      <td>India</td>\n",
       "      <td>1</td>\n",
       "      <td>Jammu And Kashmir</td>\n",
       "      <td>1</td>\n",
       "      <td>Anantnag</td>\n",
       "      <td>2015</td>\n",
       "      <td>Agriculture Year (Jul - Jun), 2015</td>\n",
       "      <td>Institutional</td>\n",
       "      <td>(0.5-1.0)</td>\n",
       "      <td>Marginal</td>\n",
       "      <td>11.197</td>\n",
       "      <td>0.294</td>\n",
       "      <td>11.491</td>\n",
       "      <td>0.409</td>\n",
       "    </tr>\n",
       "    <tr>\n",
       "      <th>1</th>\n",
       "      <td>2</td>\n",
       "      <td>India</td>\n",
       "      <td>1</td>\n",
       "      <td>Jammu And Kashmir</td>\n",
       "      <td>1</td>\n",
       "      <td>Anantnag</td>\n",
       "      <td>2015</td>\n",
       "      <td>Agriculture Year (Jul - Jun), 2015</td>\n",
       "      <td>Institutional</td>\n",
       "      <td>(10.0-20.0)</td>\n",
       "      <td>Large</td>\n",
       "      <td>21.750</td>\n",
       "      <td>0.000</td>\n",
       "      <td>21.750</td>\n",
       "      <td>0.000</td>\n",
       "    </tr>\n",
       "    <tr>\n",
       "      <th>2</th>\n",
       "      <td>3</td>\n",
       "      <td>India</td>\n",
       "      <td>1</td>\n",
       "      <td>Jammu And Kashmir</td>\n",
       "      <td>1</td>\n",
       "      <td>Anantnag</td>\n",
       "      <td>2015</td>\n",
       "      <td>Agriculture Year (Jul - Jun), 2015</td>\n",
       "      <td>Institutional</td>\n",
       "      <td>(1.0-2.0)</td>\n",
       "      <td>Small</td>\n",
       "      <td>10.250</td>\n",
       "      <td>0.000</td>\n",
       "      <td>10.250</td>\n",
       "      <td>0.000</td>\n",
       "    </tr>\n",
       "    <tr>\n",
       "      <th>3</th>\n",
       "      <td>4</td>\n",
       "      <td>India</td>\n",
       "      <td>1</td>\n",
       "      <td>Jammu And Kashmir</td>\n",
       "      <td>1</td>\n",
       "      <td>Anantnag</td>\n",
       "      <td>2015</td>\n",
       "      <td>Agriculture Year (Jul - Jun), 2015</td>\n",
       "      <td>Institutional</td>\n",
       "      <td>(2.0-3.0)</td>\n",
       "      <td>Semi-Medium</td>\n",
       "      <td>25.700</td>\n",
       "      <td>0.000</td>\n",
       "      <td>25.700</td>\n",
       "      <td>0.000</td>\n",
       "    </tr>\n",
       "    <tr>\n",
       "      <th>4</th>\n",
       "      <td>5</td>\n",
       "      <td>India</td>\n",
       "      <td>1</td>\n",
       "      <td>Jammu And Kashmir</td>\n",
       "      <td>1</td>\n",
       "      <td>Anantnag</td>\n",
       "      <td>2015</td>\n",
       "      <td>Agriculture Year (Jul - Jun), 2015</td>\n",
       "      <td>Institutional</td>\n",
       "      <td>20 &amp; Above</td>\n",
       "      <td>Large</td>\n",
       "      <td>26.050</td>\n",
       "      <td>49.300</td>\n",
       "      <td>75.350</td>\n",
       "      <td>0.000</td>\n",
       "    </tr>\n",
       "  </tbody>\n",
       "</table>\n",
       "</div>"
      ],
      "text/plain": [
       "   ROWID Country  State lgd code              State  District lgd code  \\\n",
       "0      1   India               1  Jammu And Kashmir                  1   \n",
       "1      2   India               1  Jammu And Kashmir                  1   \n",
       "2      3   India               1  Jammu And Kashmir                  1   \n",
       "3      4   India               1  Jammu And Kashmir                  1   \n",
       "4      5   India               1  Jammu And Kashmir                  1   \n",
       "\n",
       "   District  YearCode                                Year Social group type  \\\n",
       "0  Anantnag      2015  Agriculture Year (Jul - Jun), 2015     Institutional   \n",
       "1  Anantnag      2015  Agriculture Year (Jul - Jun), 2015     Institutional   \n",
       "2  Anantnag      2015  Agriculture Year (Jul - Jun), 2015     Institutional   \n",
       "3  Anantnag      2015  Agriculture Year (Jul - Jun), 2015     Institutional   \n",
       "4  Anantnag      2015  Agriculture Year (Jul - Jun), 2015     Institutional   \n",
       "\n",
       "  Land area size Category of holdings  Net area sown  \\\n",
       "0      (0.5-1.0)             Marginal         11.197   \n",
       "1    (10.0-20.0)                Large         21.750   \n",
       "2      (1.0-2.0)                Small         10.250   \n",
       "3      (2.0-3.0)          Semi-Medium         25.700   \n",
       "4     20 & Above                Large         26.050   \n",
       "\n",
       "   Area under current fallows  Net area cultivated  Uncultivated area   \n",
       "0                       0.294               11.491               0.409  \n",
       "1                       0.000               21.750               0.000  \n",
       "2                       0.000               10.250               0.000  \n",
       "3                       0.000               25.700               0.000  \n",
       "4                      49.300               75.350               0.000  "
      ]
     },
     "execution_count": 3,
     "metadata": {},
     "output_type": "execute_result"
    }
   ],
   "source": [
    "df.head()"
   ]
  },
  {
   "cell_type": "code",
   "execution_count": 4,
   "id": "2b3b16f7",
   "metadata": {},
   "outputs": [
    {
     "name": "stdout",
     "output_type": "stream",
     "text": [
      "<class 'pandas.core.frame.DataFrame'>\n",
      "RangeIndex: 29960 entries, 0 to 29959\n",
      "Data columns (total 15 columns):\n",
      " #   Column                      Non-Null Count  Dtype  \n",
      "---  ------                      --------------  -----  \n",
      " 0   ROWID                       29960 non-null  int64  \n",
      " 1   Country                     29960 non-null  object \n",
      " 2   State lgd code              29960 non-null  int64  \n",
      " 3   State                       29960 non-null  object \n",
      " 4   District lgd code           29960 non-null  int64  \n",
      " 5   District                    29960 non-null  object \n",
      " 6   YearCode                    29960 non-null  int64  \n",
      " 7   Year                        29960 non-null  object \n",
      " 8   Social group type           29960 non-null  object \n",
      " 9   Land area size              29960 non-null  object \n",
      " 10  Category of holdings        29960 non-null  object \n",
      " 11  Net area sown               28360 non-null  float64\n",
      " 12  Area under current fallows  28360 non-null  float64\n",
      " 13  Net area cultivated         28360 non-null  float64\n",
      " 14  Uncultivated area           28360 non-null  float64\n",
      "dtypes: float64(4), int64(4), object(7)\n",
      "memory usage: 3.4+ MB\n"
     ]
    }
   ],
   "source": [
    "df.info()"
   ]
  },
  {
   "cell_type": "code",
   "execution_count": 5,
   "id": "4d44f587",
   "metadata": {},
   "outputs": [
    {
     "data": {
      "text/plain": [
       "(29960, 15)"
      ]
     },
     "execution_count": 5,
     "metadata": {},
     "output_type": "execute_result"
    }
   ],
   "source": [
    "df.shape"
   ]
  },
  {
   "cell_type": "code",
   "execution_count": 6,
   "id": "b959ac9c",
   "metadata": {
    "scrolled": true
   },
   "outputs": [
    {
     "data": {
      "text/plain": [
       "ROWID                            0\n",
       "Country                          0\n",
       "State lgd code                   0\n",
       "State                            0\n",
       "District lgd code                0\n",
       "District                         0\n",
       "YearCode                         0\n",
       "Year                             0\n",
       "Social group type                0\n",
       "Land area size                   0\n",
       "Category of holdings             0\n",
       "Net area sown                 1600\n",
       "Area under current fallows    1600\n",
       "Net area cultivated           1600\n",
       "Uncultivated area             1600\n",
       "dtype: int64"
      ]
     },
     "execution_count": 6,
     "metadata": {},
     "output_type": "execute_result"
    }
   ],
   "source": [
    "df.isnull().sum()"
   ]
  },
  {
   "cell_type": "code",
   "execution_count": 7,
   "id": "ec83ed2e",
   "metadata": {},
   "outputs": [
    {
     "name": "stdout",
     "output_type": "stream",
     "text": [
      "Missing values detected. Filling missing values with appropriate strategies...\n"
     ]
    }
   ],
   "source": [
    "# Check for missing values\n",
    "if df.isnull().sum().any():\n",
    "    print(\"Missing values detected. Filling missing values with appropriate strategies...\")\n",
    "    df.fillna(df.mode().iloc[0], inplace=True)"
   ]
  },
  {
   "cell_type": "code",
   "execution_count": 8,
   "id": "da5c90ca",
   "metadata": {},
   "outputs": [
    {
     "data": {
      "text/plain": [
       "(0.5-1.0)      2996\n",
       "(10.0-20.0)    2996\n",
       "(1.0-2.0)      2996\n",
       "(2.0-3.0)      2996\n",
       "20 & Above     2996\n",
       "(3.0-4.0)      2996\n",
       "(4.0-5.0)      2996\n",
       "(5.0-7.5)      2996\n",
       "(7.5-10.0)     2996\n",
       "Below 0.5      2996\n",
       "Name: Land area size, dtype: int64"
      ]
     },
     "execution_count": 8,
     "metadata": {},
     "output_type": "execute_result"
    }
   ],
   "source": [
    "df['Land area size'].value_counts()"
   ]
  },
  {
   "cell_type": "code",
   "execution_count": 9,
   "id": "591ddadb",
   "metadata": {},
   "outputs": [],
   "source": [
    "# Function to preprocess 'Land area size'\n",
    "def preprocess_land_area(size):\n",
    "    # Handle range values like \"(0.5-1.0)\"\n",
    "    if \"-\" in size:\n",
    "        lower, upper = map(float, size.strip(\"()\").split(\"-\"))\n",
    "        return (lower + upper) / 2  # Return the midpoint of the range\n",
    "    # Handle special cases like \"20 & Above\"\n",
    "    elif \"Above\" in size:\n",
    "        return 20  # Assign a representative value for \"20 & Above\"\n",
    "    # Handle cases like \"Below 0.5\"\n",
    "    elif \"Below\" in size:\n",
    "        return 0.5  # Assign a value for \"Below 0.5\"\n",
    "    else:\n",
    "        return np.nan  # Return NaN for unexpected values\n",
    "df['Land area size'] = df['Land area size'].apply(preprocess_land_area)"
   ]
  },
  {
   "cell_type": "code",
   "execution_count": 10,
   "id": "2bbb2bfc",
   "metadata": {},
   "outputs": [
    {
     "data": {
      "text/html": [
       "<div>\n",
       "<style scoped>\n",
       "    .dataframe tbody tr th:only-of-type {\n",
       "        vertical-align: middle;\n",
       "    }\n",
       "\n",
       "    .dataframe tbody tr th {\n",
       "        vertical-align: top;\n",
       "    }\n",
       "\n",
       "    .dataframe thead th {\n",
       "        text-align: right;\n",
       "    }\n",
       "</style>\n",
       "<table border=\"1\" class=\"dataframe\">\n",
       "  <thead>\n",
       "    <tr style=\"text-align: right;\">\n",
       "      <th></th>\n",
       "      <th>ROWID</th>\n",
       "      <th>Country</th>\n",
       "      <th>State lgd code</th>\n",
       "      <th>State</th>\n",
       "      <th>District lgd code</th>\n",
       "      <th>District</th>\n",
       "      <th>YearCode</th>\n",
       "      <th>Year</th>\n",
       "      <th>Social group type</th>\n",
       "      <th>Land area size</th>\n",
       "      <th>Category of holdings</th>\n",
       "      <th>Net area sown</th>\n",
       "      <th>Area under current fallows</th>\n",
       "      <th>Net area cultivated</th>\n",
       "      <th>Uncultivated area</th>\n",
       "    </tr>\n",
       "  </thead>\n",
       "  <tbody>\n",
       "    <tr>\n",
       "      <th>0</th>\n",
       "      <td>1</td>\n",
       "      <td>India</td>\n",
       "      <td>1</td>\n",
       "      <td>Jammu And Kashmir</td>\n",
       "      <td>1</td>\n",
       "      <td>Anantnag</td>\n",
       "      <td>2015</td>\n",
       "      <td>Agriculture Year (Jul - Jun), 2015</td>\n",
       "      <td>Institutional</td>\n",
       "      <td>0.75</td>\n",
       "      <td>Marginal</td>\n",
       "      <td>11.197</td>\n",
       "      <td>0.294</td>\n",
       "      <td>11.491</td>\n",
       "      <td>0.409</td>\n",
       "    </tr>\n",
       "    <tr>\n",
       "      <th>1</th>\n",
       "      <td>2</td>\n",
       "      <td>India</td>\n",
       "      <td>1</td>\n",
       "      <td>Jammu And Kashmir</td>\n",
       "      <td>1</td>\n",
       "      <td>Anantnag</td>\n",
       "      <td>2015</td>\n",
       "      <td>Agriculture Year (Jul - Jun), 2015</td>\n",
       "      <td>Institutional</td>\n",
       "      <td>15.00</td>\n",
       "      <td>Large</td>\n",
       "      <td>21.750</td>\n",
       "      <td>0.000</td>\n",
       "      <td>21.750</td>\n",
       "      <td>0.000</td>\n",
       "    </tr>\n",
       "    <tr>\n",
       "      <th>2</th>\n",
       "      <td>3</td>\n",
       "      <td>India</td>\n",
       "      <td>1</td>\n",
       "      <td>Jammu And Kashmir</td>\n",
       "      <td>1</td>\n",
       "      <td>Anantnag</td>\n",
       "      <td>2015</td>\n",
       "      <td>Agriculture Year (Jul - Jun), 2015</td>\n",
       "      <td>Institutional</td>\n",
       "      <td>1.50</td>\n",
       "      <td>Small</td>\n",
       "      <td>10.250</td>\n",
       "      <td>0.000</td>\n",
       "      <td>10.250</td>\n",
       "      <td>0.000</td>\n",
       "    </tr>\n",
       "    <tr>\n",
       "      <th>3</th>\n",
       "      <td>4</td>\n",
       "      <td>India</td>\n",
       "      <td>1</td>\n",
       "      <td>Jammu And Kashmir</td>\n",
       "      <td>1</td>\n",
       "      <td>Anantnag</td>\n",
       "      <td>2015</td>\n",
       "      <td>Agriculture Year (Jul - Jun), 2015</td>\n",
       "      <td>Institutional</td>\n",
       "      <td>2.50</td>\n",
       "      <td>Semi-Medium</td>\n",
       "      <td>25.700</td>\n",
       "      <td>0.000</td>\n",
       "      <td>25.700</td>\n",
       "      <td>0.000</td>\n",
       "    </tr>\n",
       "    <tr>\n",
       "      <th>4</th>\n",
       "      <td>5</td>\n",
       "      <td>India</td>\n",
       "      <td>1</td>\n",
       "      <td>Jammu And Kashmir</td>\n",
       "      <td>1</td>\n",
       "      <td>Anantnag</td>\n",
       "      <td>2015</td>\n",
       "      <td>Agriculture Year (Jul - Jun), 2015</td>\n",
       "      <td>Institutional</td>\n",
       "      <td>20.00</td>\n",
       "      <td>Large</td>\n",
       "      <td>26.050</td>\n",
       "      <td>49.300</td>\n",
       "      <td>75.350</td>\n",
       "      <td>0.000</td>\n",
       "    </tr>\n",
       "  </tbody>\n",
       "</table>\n",
       "</div>"
      ],
      "text/plain": [
       "   ROWID Country  State lgd code              State  District lgd code  \\\n",
       "0      1   India               1  Jammu And Kashmir                  1   \n",
       "1      2   India               1  Jammu And Kashmir                  1   \n",
       "2      3   India               1  Jammu And Kashmir                  1   \n",
       "3      4   India               1  Jammu And Kashmir                  1   \n",
       "4      5   India               1  Jammu And Kashmir                  1   \n",
       "\n",
       "   District  YearCode                                Year Social group type  \\\n",
       "0  Anantnag      2015  Agriculture Year (Jul - Jun), 2015     Institutional   \n",
       "1  Anantnag      2015  Agriculture Year (Jul - Jun), 2015     Institutional   \n",
       "2  Anantnag      2015  Agriculture Year (Jul - Jun), 2015     Institutional   \n",
       "3  Anantnag      2015  Agriculture Year (Jul - Jun), 2015     Institutional   \n",
       "4  Anantnag      2015  Agriculture Year (Jul - Jun), 2015     Institutional   \n",
       "\n",
       "   Land area size Category of holdings  Net area sown  \\\n",
       "0            0.75             Marginal         11.197   \n",
       "1           15.00                Large         21.750   \n",
       "2            1.50                Small         10.250   \n",
       "3            2.50          Semi-Medium         25.700   \n",
       "4           20.00                Large         26.050   \n",
       "\n",
       "   Area under current fallows  Net area cultivated  Uncultivated area   \n",
       "0                       0.294               11.491               0.409  \n",
       "1                       0.000               21.750               0.000  \n",
       "2                       0.000               10.250               0.000  \n",
       "3                       0.000               25.700               0.000  \n",
       "4                      49.300               75.350               0.000  "
      ]
     },
     "execution_count": 10,
     "metadata": {},
     "output_type": "execute_result"
    }
   ],
   "source": [
    "df.head()"
   ]
  },
  {
   "cell_type": "code",
   "execution_count": 11,
   "id": "881e0d58",
   "metadata": {},
   "outputs": [],
   "source": [
    "# One-hot encoding for categorical variables\n",
    "categorical_cols = ['Category of holdings', 'Social group type']\n",
    "encoded_df = pd.get_dummies(df[categorical_cols], drop_first=True)\n"
   ]
  },
  {
   "cell_type": "code",
   "execution_count": 12,
   "id": "49e86930",
   "metadata": {},
   "outputs": [],
   "source": [
    "# Strip spaces from column names\n",
    "df.columns = df.columns.str.strip()\n",
    "\n",
    "# Combine numeric and encoded data\n",
    "numeric_cols = ['Land area size', 'Net area sown', 'Area under current fallows', 'Net area cultivated', 'Uncultivated area']\n",
    "final_data = pd.concat([df[numeric_cols], encoded_df], axis=1)\n"
   ]
  },
  {
   "cell_type": "code",
   "execution_count": 13,
   "id": "d0a2ad02",
   "metadata": {},
   "outputs": [],
   "source": [
    "# Standardizing the data\n",
    "scaler = StandardScaler()\n",
    "scaled_data = scaler.fit_transform(final_data)"
   ]
  },
  {
   "cell_type": "code",
   "execution_count": 14,
   "id": "8fefc764",
   "metadata": {},
   "outputs": [],
   "source": [
    "# Elbow Method to find optimal number of clusters\n",
    "inertia = []\n",
    "range_n_clusters = range(1, 11)\n",
    "for k in range_n_clusters:\n",
    "    kmeans = KMeans(n_clusters=k,n_init=10, random_state=42)\n",
    "    kmeans.fit(scaled_data)\n",
    "    inertia.append(kmeans.inertia_)"
   ]
  },
  {
   "cell_type": "code",
   "execution_count": 15,
   "id": "31b43943",
   "metadata": {},
   "outputs": [
    {
     "data": {
      "image/png": "[encoded data removed]",
      "text/plain": [
       "<Figure size 800x500 with 1 Axes>"
      ]
     },
     "metadata": {},
     "output_type": "display_data"
    }
   ],
   "source": [
    "# Plotting the elbow method\n",
    "plt.figure(figsize=(8, 5))\n",
    "plt.plot(range_n_clusters, inertia, marker='o')\n",
    "plt.title('Elbow Method for Optimal Clusters')\n",
    "plt.xlabel('Number of Clusters')\n",
    "plt.ylabel('Inertia')\n",
    "plt.show()"
   ]
  },
  {
   "cell_type": "raw",
   "id": "58b2e9fd",
   "metadata": {},
   "source": [
    " For k=3: If the elbow is clearly visible at 3 and inertia reduction slows down significantly after 3, this suggests that 3 clusters might explain the data well. In this case, k=3 could be preferred for simplicity and fewer clusters to analyze"
   ]
  },
  {
   "cell_type": "code",
   "execution_count": 16,
   "id": "ff777c50",
   "metadata": {},
   "outputs": [],
   "source": [
    "k= 6\n",
    "kmeans = KMeans(n_clusters=k, random_state=42)\n",
    "Cluster = kmeans.fit_predict(scaled_data)\n",
    "df['Cluster'] = Cluster"
   ]
  },
  {
   "cell_type": "code",
   "execution_count": 17,
   "id": "d6338f0a",
   "metadata": {},
   "outputs": [],
   "source": [
    "# Perform PCA for visualization (optional)\n",
    "pca = PCA(n_components=2)\n",
    "pca_data = pca.fit_transform(scaled_data)\n",
    "df['PCA1'] = pca_data[:, 0]\n",
    "df['PCA2'] = pca_data[:, 1]"
   ]
  },
  {
   "cell_type": "code",
   "execution_count": 18,
   "id": "befefd8a",
   "metadata": {},
   "outputs": [
    {
     "data": {
      "image/png": "[encoded data removed]",
      "text/plain": [
       "<Figure size 800x600 with 1 Axes>"
      ]
     },
     "metadata": {},
     "output_type": "display_data"
    }
   ],
   "source": [
    "# Plot clusters\n",
    "plt.figure(figsize=(8, 6))\n",
    "sns.scatterplot(x='PCA1', y='PCA2', hue='Cluster', data=df, palette='viridis', s=100)\n",
    "plt.title('Clusters Visualized Using PCA')\n",
    "plt.xlabel('PCA Component 1')\n",
    "plt.ylabel('PCA Component 2')\n",
    "plt.legend(title='Cluster')\n",
    "plt.show()"
   ]
  },
  {
   "cell_type": "code",
   "execution_count": 19,
   "id": "72ee2d76",
   "metadata": {},
   "outputs": [
    {
     "name": "stdout",
     "output_type": "stream",
     "text": [
      "       ROWID  Land area size  Net area sown  Cluster\n",
      "0          1            0.75         11.197        3\n",
      "1          2           15.00         21.750        2\n",
      "2          3            1.50         10.250        4\n",
      "3          4            2.50         25.700        0\n",
      "4          5           20.00         26.050        2\n",
      "...      ...             ...            ...      ...\n",
      "29955  29956            3.50       1670.411        0\n",
      "29956  29957            4.50       1098.073        1\n",
      "29957  29958            6.25       1336.589        1\n",
      "29958  29959            8.75        565.751        1\n",
      "29959  29960            0.50        960.288        3\n",
      "\n",
      "[29960 rows x 4 columns]\n"
     ]
    }
   ],
   "source": [
    "# Display segmented data\n",
    "print(df[['ROWID', 'Land area size', 'Net area sown', 'Cluster']])"
   ]
  },
  {
   "cell_type": "code",
   "execution_count": 20,
   "id": "84ad3250",
   "metadata": {},
   "outputs": [],
   "source": [
    "from sklearn.metrics import silhouette_score"
   ]
  },
  {
   "cell_type": "code",
   "execution_count": 21,
   "id": "980d3742",
   "metadata": {},
   "outputs": [
    {
     "name": "stdout",
     "output_type": "stream",
     "text": [
      "Silhouette Score for k=6: 0.4028687818306466\n"
     ]
    }
   ],
   "source": [
    "score = silhouette_score(scaled_data, Cluster)\n",
    "print(f\"Silhouette Score for k={k}: {score}\")"
   ]
  },
  {
   "cell_type": "code",
   "execution_count": 22,
   "id": "38cad551",
   "metadata": {
    "scrolled": true
   },
   "outputs": [
    {
     "data": {
      "text/html": [
       "<div>\n",
       "<style scoped>\n",
       "    .dataframe tbody tr th:only-of-type {\n",
       "        vertical-align: middle;\n",
       "    }\n",
       "\n",
       "    .dataframe tbody tr th {\n",
       "        vertical-align: top;\n",
       "    }\n",
       "\n",
       "    .dataframe thead th {\n",
       "        text-align: right;\n",
       "    }\n",
       "</style>\n",
       "<table border=\"1\" class=\"dataframe\">\n",
       "  <thead>\n",
       "    <tr style=\"text-align: right;\">\n",
       "      <th></th>\n",
       "      <th>ROWID</th>\n",
       "      <th>State lgd code</th>\n",
       "      <th>District lgd code</th>\n",
       "      <th>YearCode</th>\n",
       "      <th>Land area size</th>\n",
       "      <th>Net area sown</th>\n",
       "      <th>Area under current fallows</th>\n",
       "      <th>Net area cultivated</th>\n",
       "      <th>Uncultivated area</th>\n",
       "      <th>PCA1</th>\n",
       "      <th>PCA2</th>\n",
       "    </tr>\n",
       "    <tr>\n",
       "      <th>Cluster</th>\n",
       "      <th></th>\n",
       "      <th></th>\n",
       "      <th></th>\n",
       "      <th></th>\n",
       "      <th></th>\n",
       "      <th></th>\n",
       "      <th></th>\n",
       "      <th></th>\n",
       "      <th></th>\n",
       "      <th></th>\n",
       "      <th></th>\n",
       "    </tr>\n",
       "  </thead>\n",
       "  <tbody>\n",
       "    <tr>\n",
       "      <th>0</th>\n",
       "      <td>14841.451862</td>\n",
       "      <td>17.812425</td>\n",
       "      <td>12723.564270</td>\n",
       "      <td>2015.0</td>\n",
       "      <td>3.004719</td>\n",
       "      <td>3708.085887</td>\n",
       "      <td>296.352249</td>\n",
       "      <td>4004.438136</td>\n",
       "      <td>152.304157</td>\n",
       "      <td>-0.012093</td>\n",
       "      <td>-0.784044</td>\n",
       "    </tr>\n",
       "    <tr>\n",
       "      <th>1</th>\n",
       "      <td>14969.162366</td>\n",
       "      <td>17.947944</td>\n",
       "      <td>12200.134648</td>\n",
       "      <td>2015.0</td>\n",
       "      <td>6.504817</td>\n",
       "      <td>2204.478527</td>\n",
       "      <td>185.000033</td>\n",
       "      <td>2389.478560</td>\n",
       "      <td>115.466737</td>\n",
       "      <td>-0.422241</td>\n",
       "      <td>1.182981</td>\n",
       "    </tr>\n",
       "    <tr>\n",
       "      <th>2</th>\n",
       "      <td>15010.304962</td>\n",
       "      <td>17.994786</td>\n",
       "      <td>12144.355761</td>\n",
       "      <td>2015.0</td>\n",
       "      <td>17.507149</td>\n",
       "      <td>1154.349038</td>\n",
       "      <td>130.795694</td>\n",
       "      <td>1285.144733</td>\n",
       "      <td>69.092371</td>\n",
       "      <td>-0.549155</td>\n",
       "      <td>1.157072</td>\n",
       "    </tr>\n",
       "    <tr>\n",
       "      <th>3</th>\n",
       "      <td>14926.135800</td>\n",
       "      <td>17.905680</td>\n",
       "      <td>12761.496386</td>\n",
       "      <td>2015.0</td>\n",
       "      <td>0.624742</td>\n",
       "      <td>3981.679502</td>\n",
       "      <td>299.007652</td>\n",
       "      <td>4280.687153</td>\n",
       "      <td>116.813737</td>\n",
       "      <td>0.056709</td>\n",
       "      <td>-1.783568</td>\n",
       "    </tr>\n",
       "    <tr>\n",
       "      <th>4</th>\n",
       "      <td>14666.302158</td>\n",
       "      <td>17.615827</td>\n",
       "      <td>13315.607554</td>\n",
       "      <td>2015.0</td>\n",
       "      <td>1.500000</td>\n",
       "      <td>5432.180042</td>\n",
       "      <td>385.449452</td>\n",
       "      <td>5817.629495</td>\n",
       "      <td>181.027802</td>\n",
       "      <td>0.398047</td>\n",
       "      <td>-0.953726</td>\n",
       "    </tr>\n",
       "    <tr>\n",
       "      <th>5</th>\n",
       "      <td>17640.237898</td>\n",
       "      <td>20.934993</td>\n",
       "      <td>7286.525588</td>\n",
       "      <td>2015.0</td>\n",
       "      <td>3.289765</td>\n",
       "      <td>74365.647731</td>\n",
       "      <td>6707.671025</td>\n",
       "      <td>81073.318756</td>\n",
       "      <td>3418.966686</td>\n",
       "      <td>7.809854</td>\n",
       "      <td>0.283201</td>\n",
       "    </tr>\n",
       "  </tbody>\n",
       "</table>\n",
       "</div>"
      ],
      "text/plain": [
       "                ROWID  State lgd code  District lgd code  YearCode  \\\n",
       "Cluster                                                              \n",
       "0        14841.451862       17.812425       12723.564270    2015.0   \n",
       "1        14969.162366       17.947944       12200.134648    2015.0   \n",
       "2        15010.304962       17.994786       12144.355761    2015.0   \n",
       "3        14926.135800       17.905680       12761.496386    2015.0   \n",
       "4        14666.302158       17.615827       13315.607554    2015.0   \n",
       "5        17640.237898       20.934993        7286.525588    2015.0   \n",
       "\n",
       "         Land area size  Net area sown  Area under current fallows  \\\n",
       "Cluster                                                              \n",
       "0              3.004719    3708.085887                  296.352249   \n",
       "1              6.504817    2204.478527                  185.000033   \n",
       "2             17.507149    1154.349038                  130.795694   \n",
       "3              0.624742    3981.679502                  299.007652   \n",
       "4              1.500000    5432.180042                  385.449452   \n",
       "5              3.289765   74365.647731                 6707.671025   \n",
       "\n",
       "         Net area cultivated  Uncultivated area      PCA1      PCA2  \n",
       "Cluster                                                              \n",
       "0                4004.438136         152.304157 -0.012093 -0.784044  \n",
       "1                2389.478560         115.466737 -0.422241  1.182981  \n",
       "2                1285.144733          69.092371 -0.549155  1.157072  \n",
       "3                4280.687153         116.813737  0.056709 -1.783568  \n",
       "4                5817.629495         181.027802  0.398047 -0.953726  \n",
       "5               81073.318756        3418.966686  7.809854  0.283201  "
      ]
     },
     "execution_count": 22,
     "metadata": {},
     "output_type": "execute_result"
    }
   ],
   "source": [
    "df.groupby('Cluster').mean()\n"
   ]
  },
  {
   "cell_type": "markdown",
   "id": "3b5b642a",
   "metadata": {},
   "source": [
    "Each cluster represents different types of land use:\n",
    "\n",
    "Cluster 0: Medium-sized holdings with high land utilization and moderate fallows.\n",
    "Cluster 1: Larger holdings with moderate cultivation and low fallows.\n",
    "Cluster 2: Very large holdings with less cultivated land and more fallows.\n",
    "Cluster 3: Small holdings with high land utilization and moderate fallows.\n",
    "Cluster 4: Small to medium holdings with intense land use and moderate fallows.\n",
    "Cluster 5: Very large commercial holdings with high land utilization and a significant amount of fallow land."
   ]
  },
  {
   "cell_type": "markdown",
   "id": "666db47f",
   "metadata": {},
   "source": [
    "- Targeted Agricultural Policies: Understanding which types of holdings (small, medium, large) are more efficient or in need of support (e.g., irrigation, crop management) based on their cultivation and fallow patterns.\n",
    "\n",
    "- Resource Allocation: Identifying areas that need more resources (e.g., subsidies, training for farmers) or optimizing land use through targeted interventions.\n",
    "\n",
    "- Market Strategy: For agricultural businesses or organizations, this clustering can help tailor marketing efforts for products and services based on the land type and cultivation practices in each region.\n",
    "\n",
    "- Sustainability Initiatives: Recognizing patterns in fallow land and intensive cultivation can help in promoting sustainable agricultural practices, focusing on areas with high fallows or less efficient land use.\n",
    "\n",
    "- Forecasting and Planning: Predict future trends in agricultural production based on cluster behavior, aiding in better planning for crops, land use, and resource distribution."
   ]
  },
  {
   "cell_type": "code",
   "execution_count": 23,
   "id": "e22f9f05",
   "metadata": {},
   "outputs": [],
   "source": [
    "# Define financial parameters\n",
    "price_per_unit = 500  # Price per unit (in Rs.)\n",
    "fixed_cost = 2000     # Fixed monthly cost (in Rs.)"
   ]
  },
  {
   "cell_type": "code",
   "execution_count": 24,
   "id": "7f7727a8",
   "metadata": {},
   "outputs": [],
   "source": [
    "# Calculate revenue for each row\n",
    "df['Revenue'] = price_per_unit * df['Net area cultivated'] - fixed_cost\n"
   ]
  },
  {
   "cell_type": "code",
   "execution_count": 25,
   "id": "5bd0b7e8",
   "metadata": {},
   "outputs": [
    {
     "data": {
      "text/html": [
       "<div>\n",
       "<style scoped>\n",
       "    .dataframe tbody tr th:only-of-type {\n",
       "        vertical-align: middle;\n",
       "    }\n",
       "\n",
       "    .dataframe tbody tr th {\n",
       "        vertical-align: top;\n",
       "    }\n",
       "\n",
       "    .dataframe thead th {\n",
       "        text-align: right;\n",
       "    }\n",
       "</style>\n",
       "<table border=\"1\" class=\"dataframe\">\n",
       "  <thead>\n",
       "    <tr style=\"text-align: right;\">\n",
       "      <th></th>\n",
       "      <th>ROWID</th>\n",
       "      <th>Country</th>\n",
       "      <th>State lgd code</th>\n",
       "      <th>State</th>\n",
       "      <th>District lgd code</th>\n",
       "      <th>District</th>\n",
       "      <th>YearCode</th>\n",
       "      <th>Year</th>\n",
       "      <th>Social group type</th>\n",
       "      <th>Land area size</th>\n",
       "      <th>Category of holdings</th>\n",
       "      <th>Net area sown</th>\n",
       "      <th>Area under current fallows</th>\n",
       "      <th>Net area cultivated</th>\n",
       "      <th>Uncultivated area</th>\n",
       "      <th>Cluster</th>\n",
       "      <th>PCA1</th>\n",
       "      <th>PCA2</th>\n",
       "      <th>Revenue</th>\n",
       "    </tr>\n",
       "  </thead>\n",
       "  <tbody>\n",
       "    <tr>\n",
       "      <th>0</th>\n",
       "      <td>1</td>\n",
       "      <td>India</td>\n",
       "      <td>1</td>\n",
       "      <td>Jammu And Kashmir</td>\n",
       "      <td>1</td>\n",
       "      <td>Anantnag</td>\n",
       "      <td>2015</td>\n",
       "      <td>Agriculture Year (Jul - Jun), 2015</td>\n",
       "      <td>Institutional</td>\n",
       "      <td>0.75</td>\n",
       "      <td>Marginal</td>\n",
       "      <td>11.197</td>\n",
       "      <td>0.294</td>\n",
       "      <td>11.491</td>\n",
       "      <td>0.409</td>\n",
       "      <td>3</td>\n",
       "      <td>-0.348949</td>\n",
       "      <td>-1.800884</td>\n",
       "      <td>3745.5</td>\n",
       "    </tr>\n",
       "    <tr>\n",
       "      <th>1</th>\n",
       "      <td>2</td>\n",
       "      <td>India</td>\n",
       "      <td>1</td>\n",
       "      <td>Jammu And Kashmir</td>\n",
       "      <td>1</td>\n",
       "      <td>Anantnag</td>\n",
       "      <td>2015</td>\n",
       "      <td>Agriculture Year (Jul - Jun), 2015</td>\n",
       "      <td>Institutional</td>\n",
       "      <td>15.00</td>\n",
       "      <td>Large</td>\n",
       "      <td>21.750</td>\n",
       "      <td>0.000</td>\n",
       "      <td>21.750</td>\n",
       "      <td>0.000</td>\n",
       "      <td>2</td>\n",
       "      <td>-0.682832</td>\n",
       "      <td>0.900988</td>\n",
       "      <td>8875.0</td>\n",
       "    </tr>\n",
       "    <tr>\n",
       "      <th>2</th>\n",
       "      <td>3</td>\n",
       "      <td>India</td>\n",
       "      <td>1</td>\n",
       "      <td>Jammu And Kashmir</td>\n",
       "      <td>1</td>\n",
       "      <td>Anantnag</td>\n",
       "      <td>2015</td>\n",
       "      <td>Agriculture Year (Jul - Jun), 2015</td>\n",
       "      <td>Institutional</td>\n",
       "      <td>1.50</td>\n",
       "      <td>Small</td>\n",
       "      <td>10.250</td>\n",
       "      <td>0.000</td>\n",
       "      <td>10.250</td>\n",
       "      <td>0.000</td>\n",
       "      <td>4</td>\n",
       "      <td>-0.112223</td>\n",
       "      <td>-0.980256</td>\n",
       "      <td>3125.0</td>\n",
       "    </tr>\n",
       "    <tr>\n",
       "      <th>3</th>\n",
       "      <td>4</td>\n",
       "      <td>India</td>\n",
       "      <td>1</td>\n",
       "      <td>Jammu And Kashmir</td>\n",
       "      <td>1</td>\n",
       "      <td>Anantnag</td>\n",
       "      <td>2015</td>\n",
       "      <td>Agriculture Year (Jul - Jun), 2015</td>\n",
       "      <td>Institutional</td>\n",
       "      <td>2.50</td>\n",
       "      <td>Semi-Medium</td>\n",
       "      <td>25.700</td>\n",
       "      <td>0.000</td>\n",
       "      <td>25.700</td>\n",
       "      <td>0.000</td>\n",
       "      <td>0</td>\n",
       "      <td>-0.397765</td>\n",
       "      <td>-0.863000</td>\n",
       "      <td>10850.0</td>\n",
       "    </tr>\n",
       "    <tr>\n",
       "      <th>4</th>\n",
       "      <td>5</td>\n",
       "      <td>India</td>\n",
       "      <td>1</td>\n",
       "      <td>Jammu And Kashmir</td>\n",
       "      <td>1</td>\n",
       "      <td>Anantnag</td>\n",
       "      <td>2015</td>\n",
       "      <td>Agriculture Year (Jul - Jun), 2015</td>\n",
       "      <td>Institutional</td>\n",
       "      <td>20.00</td>\n",
       "      <td>Large</td>\n",
       "      <td>26.050</td>\n",
       "      <td>49.300</td>\n",
       "      <td>75.350</td>\n",
       "      <td>0.000</td>\n",
       "      <td>2</td>\n",
       "      <td>-0.753280</td>\n",
       "      <td>1.373162</td>\n",
       "      <td>35675.0</td>\n",
       "    </tr>\n",
       "  </tbody>\n",
       "</table>\n",
       "</div>"
      ],
      "text/plain": [
       "   ROWID Country  State lgd code              State  District lgd code  \\\n",
       "0      1   India               1  Jammu And Kashmir                  1   \n",
       "1      2   India               1  Jammu And Kashmir                  1   \n",
       "2      3   India               1  Jammu And Kashmir                  1   \n",
       "3      4   India               1  Jammu And Kashmir                  1   \n",
       "4      5   India               1  Jammu And Kashmir                  1   \n",
       "\n",
       "   District  YearCode                                Year Social group type  \\\n",
       "0  Anantnag      2015  Agriculture Year (Jul - Jun), 2015     Institutional   \n",
       "1  Anantnag      2015  Agriculture Year (Jul - Jun), 2015     Institutional   \n",
       "2  Anantnag      2015  Agriculture Year (Jul - Jun), 2015     Institutional   \n",
       "3  Anantnag      2015  Agriculture Year (Jul - Jun), 2015     Institutional   \n",
       "4  Anantnag      2015  Agriculture Year (Jul - Jun), 2015     Institutional   \n",
       "\n",
       "   Land area size Category of holdings  Net area sown  \\\n",
       "0            0.75             Marginal         11.197   \n",
       "1           15.00                Large         21.750   \n",
       "2            1.50                Small         10.250   \n",
       "3            2.50          Semi-Medium         25.700   \n",
       "4           20.00                Large         26.050   \n",
       "\n",
       "   Area under current fallows  Net area cultivated  Uncultivated area  \\\n",
       "0                       0.294               11.491              0.409   \n",
       "1                       0.000               21.750              0.000   \n",
       "2                       0.000               10.250              0.000   \n",
       "3                       0.000               25.700              0.000   \n",
       "4                      49.300               75.350              0.000   \n",
       "\n",
       "   Cluster      PCA1      PCA2  Revenue  \n",
       "0        3 -0.348949 -1.800884   3745.5  \n",
       "1        2 -0.682832  0.900988   8875.0  \n",
       "2        4 -0.112223 -0.980256   3125.0  \n",
       "3        0 -0.397765 -0.863000  10850.0  \n",
       "4        2 -0.753280  1.373162  35675.0  "
      ]
     },
     "execution_count": 25,
     "metadata": {},
     "output_type": "execute_result"
    }
   ],
   "source": [
    "df.head()"
   ]
  },
  {
   "cell_type": "code",
   "execution_count": 26,
   "id": "f6d7102c",
   "metadata": {},
   "outputs": [],
   "source": [
    "from scipy.cluster.hierarchy import dendrogram, linkage"
   ]
  },
  {
   "cell_type": "code",
   "execution_count": 27,
   "id": "6d7ef502",
   "metadata": {},
   "outputs": [],
   "source": [
    "# Fit Agglomerative/Hierarchical Clustering\n",
    "hierarchical = AgglomerativeClustering(n_clusters=6, affinity='euclidean', linkage='ward')\n",
    "hierarchical_labels = hierarchical.fit_predict(scaled_data)\n"
   ]
  },
  {
   "cell_type": "code",
   "execution_count": 28,
   "id": "a7f72c08",
   "metadata": {},
   "outputs": [
    {
     "name": "stdout",
     "output_type": "stream",
     "text": [
      "Silhouette Score (Hierarchical): 0.4018689568152664\n"
     ]
    }
   ],
   "source": [
    "silhouette_hierarchical = silhouette_score(scaled_data, hierarchical_labels)\n",
    "print(f\"Silhouette Score (Hierarchical): {silhouette_hierarchical}\")"
   ]
  },
  {
   "cell_type": "code",
   "execution_count": 29,
   "id": "f4ca56cb",
   "metadata": {},
   "outputs": [
    {
     "name": "stdout",
     "output_type": "stream",
     "text": [
      "DBSCAN_Cluster value : [ 0  1  2 ... 23 23 18]\n"
     ]
    }
   ],
   "source": [
    "# Fit DBSCAN\n",
    "dbscan = DBSCAN(eps=0.6, min_samples=5)\n",
    "DBSCAN_Cluster = dbscan.fit_predict(scaled_data)\n",
    "\n",
    "print(f\"DBSCAN_Cluster value : {DBSCAN_Cluster}\")"
   ]
  },
  {
   "cell_type": "code",
   "execution_count": 30,
   "id": "5e71477d",
   "metadata": {},
   "outputs": [
    {
     "data": {
      "text/plain": [
       "array([-1,  0,  1,  2,  3,  4,  5,  6,  7,  8,  9, 10, 11, 12, 13, 14, 15,\n",
       "       16, 17, 18, 19, 20, 21, 22, 23, 24, 25, 26, 27, 28, 29, 30, 31, 32],\n",
       "      dtype=int64)"
      ]
     },
     "execution_count": 30,
     "metadata": {},
     "output_type": "execute_result"
    }
   ],
   "source": [
    "np.unique(DBSCAN_Cluster)"
   ]
  },
  {
   "cell_type": "markdown",
   "id": "6ae7cd85",
   "metadata": {},
   "source": [
    "- While technically any problem can be considered a \"cluster problem\" with more than 10 clusters, having too many clusters (significantly above 10) can often lead to issues with interpretability and practical application in most real-world scenarios; meaning the insights gained from the clusters may be too nuanced and difficult to understand or act upon effectively."
   ]
  },
  {
   "cell_type": "code",
   "execution_count": 31,
   "id": "ba5bf799",
   "metadata": {},
   "outputs": [],
   "source": [
    "# df.to_csv(\"clustered_data.csv\", index=False)"
   ]
  }
 ],
 "metadata": {
  "kernelspec": {
   "display_name": "Python 3 (ipykernel)",
   "language": "python",
   "name": "python3"
  },
  "language_info": {
   "codemirror_mode": {
    "name": "ipython",
    "version": 3
   },
   "file_extension": ".py",
   "mimetype": "text/x-python",
   "name": "python",
   "nbconvert_exporter": "python",
   "pygments_lexer": "ipython3",
   "version": "3.10.9"
  }
 },
 "nbformat": 4,
 "nbformat_minor": 5
}
